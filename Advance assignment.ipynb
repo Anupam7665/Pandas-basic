{
 "cells": [
  {
   "cell_type": "markdown",
   "id": "16e46c4b-3f88-4524-8c2d-c3077ee429bd",
   "metadata": {},
   "source": [
    "### Q1. List any five functions of the pandas library with execution."
   ]
  },
  {
   "cell_type": "code",
   "execution_count": 1,
   "id": "5c46713c-642f-4144-9f60-a124f3c215a0",
   "metadata": {},
   "outputs": [],
   "source": [
    "import pandas as pd"
   ]
  },
  {
   "cell_type": "markdown",
   "id": "c12abbfa-fd15-4fe9-b503-6c7c8f300121",
   "metadata": {},
   "source": [
    "1. Dataframe : It is used to create  a two dimensional heterogenous object which manipulate its data"
   ]
  },
  {
   "cell_type": "code",
   "execution_count": 4,
   "id": "384c24d2-468b-4bbd-b4b1-7e6bc05c627d",
   "metadata": {},
   "outputs": [],
   "source": [
    "df = pd.DataFrame({'name': ['Ram', 'Sachin', 'Rohit', 'Kohli'],\n",
    "                   'age': [25, 30, 35, 40],\n",
    "                   'score': [80, 75, 90, 85]})"
   ]
  },
  {
   "cell_type": "code",
   "execution_count": 5,
   "id": "e203bd10-c01d-4990-b451-338fe2f715f7",
   "metadata": {},
   "outputs": [
    {
     "data": {
      "text/html": [
       "<div>\n",
       "<style scoped>\n",
       "    .dataframe tbody tr th:only-of-type {\n",
       "        vertical-align: middle;\n",
       "    }\n",
       "\n",
       "    .dataframe tbody tr th {\n",
       "        vertical-align: top;\n",
       "    }\n",
       "\n",
       "    .dataframe thead th {\n",
       "        text-align: right;\n",
       "    }\n",
       "</style>\n",
       "<table border=\"1\" class=\"dataframe\">\n",
       "  <thead>\n",
       "    <tr style=\"text-align: right;\">\n",
       "      <th></th>\n",
       "      <th>name</th>\n",
       "      <th>age</th>\n",
       "      <th>score</th>\n",
       "    </tr>\n",
       "  </thead>\n",
       "  <tbody>\n",
       "    <tr>\n",
       "      <th>0</th>\n",
       "      <td>Ram</td>\n",
       "      <td>25</td>\n",
       "      <td>80</td>\n",
       "    </tr>\n",
       "    <tr>\n",
       "      <th>1</th>\n",
       "      <td>Sachin</td>\n",
       "      <td>30</td>\n",
       "      <td>75</td>\n",
       "    </tr>\n",
       "    <tr>\n",
       "      <th>2</th>\n",
       "      <td>Rohit</td>\n",
       "      <td>35</td>\n",
       "      <td>90</td>\n",
       "    </tr>\n",
       "    <tr>\n",
       "      <th>3</th>\n",
       "      <td>Kohli</td>\n",
       "      <td>40</td>\n",
       "      <td>85</td>\n",
       "    </tr>\n",
       "  </tbody>\n",
       "</table>\n",
       "</div>"
      ],
      "text/plain": [
       "     name  age  score\n",
       "0     Ram   25     80\n",
       "1  Sachin   30     75\n",
       "2   Rohit   35     90\n",
       "3   Kohli   40     85"
      ]
     },
     "execution_count": 5,
     "metadata": {},
     "output_type": "execute_result"
    }
   ],
   "source": [
    "df"
   ]
  },
  {
   "cell_type": "markdown",
   "id": "680afcde-f38b-461b-bb3e-fcd95b223190",
   "metadata": {},
   "source": [
    "2. Series : It is used to create one dimensional homogenous object "
   ]
  },
  {
   "cell_type": "code",
   "execution_count": 6,
   "id": "acf15e32-e014-4a4e-81d2-9283259ae553",
   "metadata": {},
   "outputs": [],
   "source": [
    "df = pd.Series({'name': ['Ram', 'Sachin', 'Rohit', 'Kohli'],\n",
    "                   'age': [25, 30, 35, 40],\n",
    "                   'score': [80, 75, 90, 85]})"
   ]
  },
  {
   "cell_type": "code",
   "execution_count": 7,
   "id": "3ed9f10f-475d-4d8d-b995-68cfa31f1406",
   "metadata": {},
   "outputs": [
    {
     "data": {
      "text/plain": [
       "name     [Ram, Sachin, Rohit, Kohli]\n",
       "age                 [25, 30, 35, 40]\n",
       "score               [80, 75, 90, 85]\n",
       "dtype: object"
      ]
     },
     "execution_count": 7,
     "metadata": {},
     "output_type": "execute_result"
    }
   ],
   "source": [
    "df"
   ]
  },
  {
   "cell_type": "markdown",
   "id": "194bf956-8ff8-4a38-82cf-57e67e83929f",
   "metadata": {},
   "source": [
    "3. fillna() : It is used t fill the missing value with a constant value such as zero"
   ]
  },
  {
   "cell_type": "code",
   "execution_count": 8,
   "id": "8bd720a7-e6c2-4f0a-a5c0-31e7aa266921",
   "metadata": {},
   "outputs": [],
   "source": [
    "df = pd.DataFrame({'name': ['Ram', None , 'Rohit', 'Kohli'],\n",
    "                   'age': [25, 30, 35, 40],\n",
    "                   'score': [80, 75, 90, None]})"
   ]
  },
  {
   "cell_type": "code",
   "execution_count": 9,
   "id": "98e7acce-d575-499d-be3e-e93f2b291133",
   "metadata": {},
   "outputs": [
    {
     "data": {
      "text/html": [
       "<div>\n",
       "<style scoped>\n",
       "    .dataframe tbody tr th:only-of-type {\n",
       "        vertical-align: middle;\n",
       "    }\n",
       "\n",
       "    .dataframe tbody tr th {\n",
       "        vertical-align: top;\n",
       "    }\n",
       "\n",
       "    .dataframe thead th {\n",
       "        text-align: right;\n",
       "    }\n",
       "</style>\n",
       "<table border=\"1\" class=\"dataframe\">\n",
       "  <thead>\n",
       "    <tr style=\"text-align: right;\">\n",
       "      <th></th>\n",
       "      <th>name</th>\n",
       "      <th>age</th>\n",
       "      <th>score</th>\n",
       "    </tr>\n",
       "  </thead>\n",
       "  <tbody>\n",
       "    <tr>\n",
       "      <th>0</th>\n",
       "      <td>Ram</td>\n",
       "      <td>25</td>\n",
       "      <td>80.0</td>\n",
       "    </tr>\n",
       "    <tr>\n",
       "      <th>1</th>\n",
       "      <td>0</td>\n",
       "      <td>30</td>\n",
       "      <td>75.0</td>\n",
       "    </tr>\n",
       "    <tr>\n",
       "      <th>2</th>\n",
       "      <td>Rohit</td>\n",
       "      <td>35</td>\n",
       "      <td>90.0</td>\n",
       "    </tr>\n",
       "    <tr>\n",
       "      <th>3</th>\n",
       "      <td>Kohli</td>\n",
       "      <td>40</td>\n",
       "      <td>0.0</td>\n",
       "    </tr>\n",
       "  </tbody>\n",
       "</table>\n",
       "</div>"
      ],
      "text/plain": [
       "    name  age  score\n",
       "0    Ram   25   80.0\n",
       "1      0   30   75.0\n",
       "2  Rohit   35   90.0\n",
       "3  Kohli   40    0.0"
      ]
     },
     "execution_count": 9,
     "metadata": {},
     "output_type": "execute_result"
    }
   ],
   "source": [
    "df.fillna(0)"
   ]
  },
  {
   "cell_type": "markdown",
   "id": "6a9f914b-6e6f-4aac-919d-9dcdb28d3e06",
   "metadata": {},
   "source": [
    "4. describe : We can use describe() function to calculate the stastical of each column"
   ]
  },
  {
   "cell_type": "code",
   "execution_count": 10,
   "id": "284c2e8c-a53b-4c5d-9770-6a501621d53e",
   "metadata": {},
   "outputs": [
    {
     "data": {
      "text/html": [
       "<div>\n",
       "<style scoped>\n",
       "    .dataframe tbody tr th:only-of-type {\n",
       "        vertical-align: middle;\n",
       "    }\n",
       "\n",
       "    .dataframe tbody tr th {\n",
       "        vertical-align: top;\n",
       "    }\n",
       "\n",
       "    .dataframe thead th {\n",
       "        text-align: right;\n",
       "    }\n",
       "</style>\n",
       "<table border=\"1\" class=\"dataframe\">\n",
       "  <thead>\n",
       "    <tr style=\"text-align: right;\">\n",
       "      <th></th>\n",
       "      <th>age</th>\n",
       "      <th>score</th>\n",
       "    </tr>\n",
       "  </thead>\n",
       "  <tbody>\n",
       "    <tr>\n",
       "      <th>count</th>\n",
       "      <td>4.000000</td>\n",
       "      <td>3.000000</td>\n",
       "    </tr>\n",
       "    <tr>\n",
       "      <th>mean</th>\n",
       "      <td>32.500000</td>\n",
       "      <td>81.666667</td>\n",
       "    </tr>\n",
       "    <tr>\n",
       "      <th>std</th>\n",
       "      <td>6.454972</td>\n",
       "      <td>7.637626</td>\n",
       "    </tr>\n",
       "    <tr>\n",
       "      <th>min</th>\n",
       "      <td>25.000000</td>\n",
       "      <td>75.000000</td>\n",
       "    </tr>\n",
       "    <tr>\n",
       "      <th>25%</th>\n",
       "      <td>28.750000</td>\n",
       "      <td>77.500000</td>\n",
       "    </tr>\n",
       "    <tr>\n",
       "      <th>50%</th>\n",
       "      <td>32.500000</td>\n",
       "      <td>80.000000</td>\n",
       "    </tr>\n",
       "    <tr>\n",
       "      <th>75%</th>\n",
       "      <td>36.250000</td>\n",
       "      <td>85.000000</td>\n",
       "    </tr>\n",
       "    <tr>\n",
       "      <th>max</th>\n",
       "      <td>40.000000</td>\n",
       "      <td>90.000000</td>\n",
       "    </tr>\n",
       "  </tbody>\n",
       "</table>\n",
       "</div>"
      ],
      "text/plain": [
       "             age      score\n",
       "count   4.000000   3.000000\n",
       "mean   32.500000  81.666667\n",
       "std     6.454972   7.637626\n",
       "min    25.000000  75.000000\n",
       "25%    28.750000  77.500000\n",
       "50%    32.500000  80.000000\n",
       "75%    36.250000  85.000000\n",
       "max    40.000000  90.000000"
      ]
     },
     "execution_count": 10,
     "metadata": {},
     "output_type": "execute_result"
    }
   ],
   "source": [
    "df.describe()"
   ]
  },
  {
   "cell_type": "markdown",
   "id": "5348e514-482c-43ba-9dcc-3b358fe083c0",
   "metadata": {},
   "source": [
    "5. info() : Displaying information about the DataFrame , including data types and non null counts"
   ]
  },
  {
   "cell_type": "code",
   "execution_count": 11,
   "id": "d6664f70-b22e-4bfe-91a8-6d5137768191",
   "metadata": {},
   "outputs": [
    {
     "name": "stdout",
     "output_type": "stream",
     "text": [
      "<class 'pandas.core.frame.DataFrame'>\n",
      "RangeIndex: 4 entries, 0 to 3\n",
      "Data columns (total 3 columns):\n",
      " #   Column  Non-Null Count  Dtype  \n",
      "---  ------  --------------  -----  \n",
      " 0   name    3 non-null      object \n",
      " 1   age     4 non-null      int64  \n",
      " 2   score   3 non-null      float64\n",
      "dtypes: float64(1), int64(1), object(1)\n",
      "memory usage: 224.0+ bytes\n"
     ]
    }
   ],
   "source": [
    "df.info()"
   ]
  },
  {
   "cell_type": "markdown",
   "id": "47867553-2e81-4885-a170-e58fb7f24623",
   "metadata": {},
   "source": [
    "### Q2. Given a Pandas DataFrame df with columns 'A', 'B', and 'C', write a Python function to re-index the DataFrame with a new index that starts from 1 and increments by 2 for each row."
   ]
  },
  {
   "cell_type": "code",
   "execution_count": 12,
   "id": "de300588-d845-40c7-94b2-43125d56c88d",
   "metadata": {},
   "outputs": [],
   "source": [
    "def reindex_df(df):\n",
    "    n = len(df)\n",
    "    new_index = list(range(1, 2*n, 2))\n",
    "new_index =  df.index"
   ]
  },
  {
   "cell_type": "code",
   "execution_count": 13,
   "id": "2cacb03f-392f-478a-bd66-577d5530a7bd",
   "metadata": {},
   "outputs": [],
   "source": [
    "df = pd.DataFrame({'A': [1, 2, 3], 'B': [4, 5, 6], 'C': [7, 8, 9]})"
   ]
  },
  {
   "cell_type": "code",
   "execution_count": 14,
   "id": "5a0bfd45-8815-436b-b170-21ba29279c37",
   "metadata": {},
   "outputs": [
    {
     "data": {
      "text/html": [
       "<div>\n",
       "<style scoped>\n",
       "    .dataframe tbody tr th:only-of-type {\n",
       "        vertical-align: middle;\n",
       "    }\n",
       "\n",
       "    .dataframe tbody tr th {\n",
       "        vertical-align: top;\n",
       "    }\n",
       "\n",
       "    .dataframe thead th {\n",
       "        text-align: right;\n",
       "    }\n",
       "</style>\n",
       "<table border=\"1\" class=\"dataframe\">\n",
       "  <thead>\n",
       "    <tr style=\"text-align: right;\">\n",
       "      <th></th>\n",
       "      <th>A</th>\n",
       "      <th>B</th>\n",
       "      <th>C</th>\n",
       "    </tr>\n",
       "  </thead>\n",
       "  <tbody>\n",
       "    <tr>\n",
       "      <th>0</th>\n",
       "      <td>1</td>\n",
       "      <td>4</td>\n",
       "      <td>7</td>\n",
       "    </tr>\n",
       "    <tr>\n",
       "      <th>1</th>\n",
       "      <td>2</td>\n",
       "      <td>5</td>\n",
       "      <td>8</td>\n",
       "    </tr>\n",
       "    <tr>\n",
       "      <th>2</th>\n",
       "      <td>3</td>\n",
       "      <td>6</td>\n",
       "      <td>9</td>\n",
       "    </tr>\n",
       "  </tbody>\n",
       "</table>\n",
       "</div>"
      ],
      "text/plain": [
       "   A  B  C\n",
       "0  1  4  7\n",
       "1  2  5  8\n",
       "2  3  6  9"
      ]
     },
     "execution_count": 14,
     "metadata": {},
     "output_type": "execute_result"
    }
   ],
   "source": [
    "df"
   ]
  },
  {
   "cell_type": "markdown",
   "id": "a4353330-9e00-4d4a-987b-74981fbc2b6b",
   "metadata": {},
   "source": [
    "### Q3. You have a Pandas DataFrame df with a column named 'Values'. Write a Python function that iterates over the DataFrame and calculates the sum of the first three values in the 'Values' column. The function should print the sum to the console.\n",
    "\n",
    "### For example, if the 'Values' column of df contains the values [10, 20, 30, 40, 50], your function should calculate and print the sum of the first three values, which is 60."
   ]
  },
  {
   "cell_type": "code",
   "execution_count": 15,
   "id": "44167388-5827-42fb-8b3b-e49699133654",
   "metadata": {},
   "outputs": [],
   "source": [
    "lst = [10, 20, 30, 40, 50]\n",
    "\n",
    "df = pd.DataFrame({'Values': lst})\n",
    "\n",
    "def return_first_3_sum(df):\n",
    "    result = 0\n",
    "    for i in range(3):\n",
    "        result = result + df['Values'].values[i]\n",
    "    return result    "
   ]
  },
  {
   "cell_type": "code",
   "execution_count": 16,
   "id": "4dff0112-8c73-4825-856e-99dc31478db2",
   "metadata": {},
   "outputs": [
    {
     "data": {
      "text/plain": [
       "60"
      ]
     },
     "execution_count": 16,
     "metadata": {},
     "output_type": "execute_result"
    }
   ],
   "source": [
    "return_first_3_sum(df)"
   ]
  },
  {
   "cell_type": "markdown",
   "id": "b4a6dadb-d628-439c-a50c-bf6e1360db17",
   "metadata": {},
   "source": [
    "### Q4. Given a Pandas DataFrame df with a column 'Text', write a Python function to create a new column 'Word_Count' that contains the number of words in each row of the 'Text' column."
   ]
  },
  {
   "cell_type": "code",
   "execution_count": 24,
   "id": "da36edf2-8a48-47d9-9dae-6bd931b07c23",
   "metadata": {},
   "outputs": [],
   "source": [
    "df = pd.DataFrame({'Text': ['Data Science', 'Python Advance', 'Pandas DataFrame', 'Series']})\n"
   ]
  },
  {
   "cell_type": "code",
   "execution_count": 25,
   "id": "c8336e5b-cd9d-4548-81fc-efade39a7efa",
   "metadata": {},
   "outputs": [],
   "source": [
    "df['Word_Count'] = df['Text'].apply(len)"
   ]
  },
  {
   "cell_type": "code",
   "execution_count": 26,
   "id": "0e4c83b0-bcfe-4faa-86e7-e5f946614be6",
   "metadata": {},
   "outputs": [
    {
     "data": {
      "text/html": [
       "<div>\n",
       "<style scoped>\n",
       "    .dataframe tbody tr th:only-of-type {\n",
       "        vertical-align: middle;\n",
       "    }\n",
       "\n",
       "    .dataframe tbody tr th {\n",
       "        vertical-align: top;\n",
       "    }\n",
       "\n",
       "    .dataframe thead th {\n",
       "        text-align: right;\n",
       "    }\n",
       "</style>\n",
       "<table border=\"1\" class=\"dataframe\">\n",
       "  <thead>\n",
       "    <tr style=\"text-align: right;\">\n",
       "      <th></th>\n",
       "      <th>Text</th>\n",
       "      <th>Word_Count</th>\n",
       "    </tr>\n",
       "  </thead>\n",
       "  <tbody>\n",
       "    <tr>\n",
       "      <th>0</th>\n",
       "      <td>Data Science</td>\n",
       "      <td>12</td>\n",
       "    </tr>\n",
       "    <tr>\n",
       "      <th>1</th>\n",
       "      <td>Python Advance</td>\n",
       "      <td>14</td>\n",
       "    </tr>\n",
       "    <tr>\n",
       "      <th>2</th>\n",
       "      <td>Pandas DataFrame</td>\n",
       "      <td>16</td>\n",
       "    </tr>\n",
       "    <tr>\n",
       "      <th>3</th>\n",
       "      <td>Series</td>\n",
       "      <td>6</td>\n",
       "    </tr>\n",
       "  </tbody>\n",
       "</table>\n",
       "</div>"
      ],
      "text/plain": [
       "               Text  Word_Count\n",
       "0      Data Science          12\n",
       "1    Python Advance          14\n",
       "2  Pandas DataFrame          16\n",
       "3            Series           6"
      ]
     },
     "execution_count": 26,
     "metadata": {},
     "output_type": "execute_result"
    }
   ],
   "source": [
    "df"
   ]
  },
  {
   "cell_type": "markdown",
   "id": "0fba0b0d-508d-4172-acdf-52b478b5085d",
   "metadata": {},
   "source": [
    "### Q5. How are DataFrame.size() and DataFrame.shape() different?"
   ]
  },
  {
   "cell_type": "markdown",
   "id": "16bdae72-ed0d-4a34-93d0-f32facf8253a",
   "metadata": {},
   "source": [
    "DataFrame.size() returns the total nunber of elemente in the DataFrame which is the product of the number of rows and the number of columns for eg , if a DataFrame has 10 rows and 5 columns , then DataFrame.size() will return 50 \n",
    "\n",
    "\n",
    "\n",
    "DataFrame.shape() returns a tuple of two integer , representing the number of rows and number of columns fo eg , if a DataFrame has 10 rows 5 columns  , then the DataFrame .shape() will return(10,5)   "
   ]
  },
  {
   "cell_type": "markdown",
   "id": "24501842-0396-436d-a148-ee80ecc2aa1c",
   "metadata": {},
   "source": [
    "### Q6. Which function of pandas do we use to read an excel file?"
   ]
  },
  {
   "cell_type": "markdown",
   "id": "c0d7aa4d-4166-4802-8f9e-0158ad085644",
   "metadata": {},
   "source": [
    "We have to use the pd.ecxel_read() function to read excel file using pandas"
   ]
  },
  {
   "cell_type": "markdown",
   "id": "b3d2d9df-4f87-4967-8644-aaa264a59651",
   "metadata": {},
   "source": [
    "### Q7. You have a Pandas DataFrame df that contains a column named 'Email' that contains email addresses in the format 'username@domain.com'. Write a Python function that creates a new column 'Username' in df that contains only the username part of each email address.\n",
    "\n",
    "### The username is the part of the email address that appears before the '@' symbol. For example, if the email address is 'john.doe@example.com', the 'Username' column should contain 'john.doe'. Your function should extract the username from each email address and store it in the new 'Username' column."
   ]
  },
  {
   "cell_type": "code",
   "execution_count": 1,
   "id": "91b2d4ca-6561-496b-9a40-eb18feca70d6",
   "metadata": {},
   "outputs": [],
   "source": [
    "data = {'Email': ['john@example.com',\n",
    "                  'robert.johnson@corporation.net',\n",
    "                  'jane.davis@consultingfirm.com',\n",
    "                  'david.brown@startup.co',\n",
    "                  'alice.wang@lawfirm.com',\n",
    "                  'george.white@nonprofit.org',\n",
    "                  'emily@example.com',\n",
    "                  'chris@example.com']}"
   ]
  },
  {
   "cell_type": "code",
   "execution_count": 5,
   "id": "834e7d99-cbc6-4992-9bbf-87df35713476",
   "metadata": {},
   "outputs": [],
   "source": [
    "df = pd.DataFrame(data)"
   ]
  },
  {
   "cell_type": "code",
   "execution_count": 6,
   "id": "6b5ba69f-c9ee-4b91-a9a0-4e2c080e4edd",
   "metadata": {},
   "outputs": [],
   "source": [
    "df['Username'] = df['Email'].apply(lambda x: x.split('@')[0])\n"
   ]
  },
  {
   "cell_type": "code",
   "execution_count": 7,
   "id": "6558e8a1-462e-419a-8d8c-113cc361fac3",
   "metadata": {},
   "outputs": [
    {
     "data": {
      "text/html": [
       "<div>\n",
       "<style scoped>\n",
       "    .dataframe tbody tr th:only-of-type {\n",
       "        vertical-align: middle;\n",
       "    }\n",
       "\n",
       "    .dataframe tbody tr th {\n",
       "        vertical-align: top;\n",
       "    }\n",
       "\n",
       "    .dataframe thead th {\n",
       "        text-align: right;\n",
       "    }\n",
       "</style>\n",
       "<table border=\"1\" class=\"dataframe\">\n",
       "  <thead>\n",
       "    <tr style=\"text-align: right;\">\n",
       "      <th></th>\n",
       "      <th>Email</th>\n",
       "      <th>Username</th>\n",
       "    </tr>\n",
       "  </thead>\n",
       "  <tbody>\n",
       "    <tr>\n",
       "      <th>0</th>\n",
       "      <td>john@example.com</td>\n",
       "      <td>john</td>\n",
       "    </tr>\n",
       "    <tr>\n",
       "      <th>1</th>\n",
       "      <td>robert.johnson@corporation.net</td>\n",
       "      <td>robert.johnson</td>\n",
       "    </tr>\n",
       "    <tr>\n",
       "      <th>2</th>\n",
       "      <td>jane.davis@consultingfirm.com</td>\n",
       "      <td>jane.davis</td>\n",
       "    </tr>\n",
       "    <tr>\n",
       "      <th>3</th>\n",
       "      <td>david.brown@startup.co</td>\n",
       "      <td>david.brown</td>\n",
       "    </tr>\n",
       "    <tr>\n",
       "      <th>4</th>\n",
       "      <td>alice.wang@lawfirm.com</td>\n",
       "      <td>alice.wang</td>\n",
       "    </tr>\n",
       "    <tr>\n",
       "      <th>5</th>\n",
       "      <td>george.white@nonprofit.org</td>\n",
       "      <td>george.white</td>\n",
       "    </tr>\n",
       "    <tr>\n",
       "      <th>6</th>\n",
       "      <td>emily@example.com</td>\n",
       "      <td>emily</td>\n",
       "    </tr>\n",
       "    <tr>\n",
       "      <th>7</th>\n",
       "      <td>chris@example.com</td>\n",
       "      <td>chris</td>\n",
       "    </tr>\n",
       "  </tbody>\n",
       "</table>\n",
       "</div>"
      ],
      "text/plain": [
       "                            Email        Username\n",
       "0                john@example.com            john\n",
       "1  robert.johnson@corporation.net  robert.johnson\n",
       "2   jane.davis@consultingfirm.com      jane.davis\n",
       "3          david.brown@startup.co     david.brown\n",
       "4          alice.wang@lawfirm.com      alice.wang\n",
       "5      george.white@nonprofit.org    george.white\n",
       "6               emily@example.com           emily\n",
       "7               chris@example.com           chris"
      ]
     },
     "execution_count": 7,
     "metadata": {},
     "output_type": "execute_result"
    }
   ],
   "source": [
    "df"
   ]
  },
  {
   "cell_type": "markdown",
   "id": "711a1ded-7262-4c18-926a-52f28eabadb6",
   "metadata": {},
   "source": [
    "### Q8. You have a Pandas DataFrame df with columns 'A', 'B', and 'C'. Write a Python function that selects all rows where the value in column 'A' is greater than 5 and the value in column 'B' is less than 10. The function should return a new DataFrame that contains only the selected rows."
   ]
  },
  {
   "cell_type": "markdown",
   "id": "c0500209-8f39-4917-a545-446fa957cd2a",
   "metadata": {},
   "source": [
    "For example, if df contains the following values:\n",
    "\n",
    "  A B C\n",
    "0 3 5 1\n",
    "1 8 2 7\n",
    "2 6 9 4\n",
    "3 2 3 5\n",
    "4 9 1 2"
   ]
  },
  {
   "cell_type": "markdown",
   "id": "1162538d-81f6-4f7a-aa91-62471a813d9c",
   "metadata": {},
   "source": [
    "Your function should select the following rows: \n",
    "  A B C\n",
    "1 8 2 7\n",
    "2 6 9 4\n",
    "4 9 1 2\n",
    "The function should return a new DataFrame that contains only the selected rows."
   ]
  },
  {
   "cell_type": "code",
   "execution_count": null,
   "id": "aa1d26ca-0d84-45a7-8838-65f25e76ea07",
   "metadata": {},
   "outputs": [],
   "source": [
    "data = {'A' : [3,8,6,2,9],\n",
    "        'B' : [5,2,9,3,1],\n",
    "        'C' : [1,7,4,5,2]}\n",
    "\n",
    "df = pd.DataFrame(data)"
   ]
  },
  {
   "cell_type": "code",
   "execution_count": 71,
   "id": "cb3b3af1-b444-45db-8cf5-4c562e1882bc",
   "metadata": {},
   "outputs": [],
   "source": [
    "def rows(df):\n",
    "    df = df[(df['A'] > 5) & (df['B'] < 10)]\n",
    "    return df"
   ]
  },
  {
   "cell_type": "code",
   "execution_count": 72,
   "id": "a79c413f-f340-4860-b082-bf4ba191c5b5",
   "metadata": {},
   "outputs": [
    {
     "data": {
      "text/html": [
       "<div>\n",
       "<style scoped>\n",
       "    .dataframe tbody tr th:only-of-type {\n",
       "        vertical-align: middle;\n",
       "    }\n",
       "\n",
       "    .dataframe tbody tr th {\n",
       "        vertical-align: top;\n",
       "    }\n",
       "\n",
       "    .dataframe thead th {\n",
       "        text-align: right;\n",
       "    }\n",
       "</style>\n",
       "<table border=\"1\" class=\"dataframe\">\n",
       "  <thead>\n",
       "    <tr style=\"text-align: right;\">\n",
       "      <th></th>\n",
       "      <th>A</th>\n",
       "      <th>B</th>\n",
       "      <th>C</th>\n",
       "    </tr>\n",
       "  </thead>\n",
       "  <tbody>\n",
       "    <tr>\n",
       "      <th>1</th>\n",
       "      <td>8</td>\n",
       "      <td>2</td>\n",
       "      <td>7</td>\n",
       "    </tr>\n",
       "    <tr>\n",
       "      <th>2</th>\n",
       "      <td>6</td>\n",
       "      <td>9</td>\n",
       "      <td>4</td>\n",
       "    </tr>\n",
       "    <tr>\n",
       "      <th>4</th>\n",
       "      <td>9</td>\n",
       "      <td>1</td>\n",
       "      <td>2</td>\n",
       "    </tr>\n",
       "  </tbody>\n",
       "</table>\n",
       "</div>"
      ],
      "text/plain": [
       "   A  B  C\n",
       "1  8  2  7\n",
       "2  6  9  4\n",
       "4  9  1  2"
      ]
     },
     "execution_count": 72,
     "metadata": {},
     "output_type": "execute_result"
    }
   ],
   "source": [
    "rows(df)"
   ]
  },
  {
   "cell_type": "markdown",
   "id": "42109bda-53fe-4d9b-ab96-f20a50327f8c",
   "metadata": {},
   "source": [
    "### Q9. Given a Pandas DataFrame df with a column 'Values', write a Python function to calculate the mean,median, and standard deviation of the values in  the 'Values' column."
   ]
  },
  {
   "cell_type": "code",
   "execution_count": 15,
   "id": "ecd7bf56-d479-447d-a7fd-544e2b6b03b5",
   "metadata": {},
   "outputs": [],
   "source": [
    "import numpy as np\n",
    "import pandas as pd\n",
    "\n",
    "def calculate_stats(df):\n",
    "    mean = df['Values'].mean()\n",
    "    median = df['Values'].median()\n",
    "    std_dev = df['Values'].std()\n",
    "    print(f\"Mean: {mean}\\nMedian: {median}\\nStandard Deviation: {std_dev}\")\n",
    "\n",
    "df = pd.DataFrame({'Values': np.random.randint(0,100,10)})\n"
   ]
  },
  {
   "cell_type": "markdown",
   "id": "14d875ed-46fa-446f-b55a-276b8089b4e3",
   "metadata": {},
   "source": [
    "### Q10. Given a Pandas DataFrame df with a column 'Sales' and a column 'Date', write a Python function to create a new column 'MovingAverage' that contains the moving average of the sales for the past 7 days for each row in the DataFrame. The moving average should be calculated using a window of size 7 and should include the current day."
   ]
  },
  {
   "cell_type": "code",
   "execution_count": 13,
   "id": "271f3594-e1df-4fc6-93db-c95effecf4d3",
   "metadata": {},
   "outputs": [],
   "source": [
    "def calculate_moving_average(df):\n",
    "    result_df = df.copy()\n",
    "    result_df['MovingAverage'] = df['Sales'].rolling(window=7, min_periods=1).mean()\n",
    "    return result_df\n",
    "    "
   ]
  },
  {
   "cell_type": "code",
   "execution_count": 14,
   "id": "31659304-b94e-4ddc-bbe2-0bd1511a27bc",
   "metadata": {},
   "outputs": [],
   "source": [
    "\n",
    "df = pd.DataFrame({'Sales': [10, 20, 30, 40, 50, 60, 70, 80, 90, 100],\n",
    "                   'Date': pd.date_range('2023-01-01', periods=10, freq='D')})\n",
    "result_df = calculate_moving_average(df)\n"
   ]
  },
  {
   "cell_type": "code",
   "execution_count": 15,
   "id": "5df60f56-49e0-418e-9dd3-bf17a26082d4",
   "metadata": {},
   "outputs": [
    {
     "data": {
      "text/html": [
       "<div>\n",
       "<style scoped>\n",
       "    .dataframe tbody tr th:only-of-type {\n",
       "        vertical-align: middle;\n",
       "    }\n",
       "\n",
       "    .dataframe tbody tr th {\n",
       "        vertical-align: top;\n",
       "    }\n",
       "\n",
       "    .dataframe thead th {\n",
       "        text-align: right;\n",
       "    }\n",
       "</style>\n",
       "<table border=\"1\" class=\"dataframe\">\n",
       "  <thead>\n",
       "    <tr style=\"text-align: right;\">\n",
       "      <th></th>\n",
       "      <th>Sales</th>\n",
       "      <th>Date</th>\n",
       "      <th>MovingAverage</th>\n",
       "    </tr>\n",
       "  </thead>\n",
       "  <tbody>\n",
       "    <tr>\n",
       "      <th>0</th>\n",
       "      <td>10</td>\n",
       "      <td>2023-01-01</td>\n",
       "      <td>10.0</td>\n",
       "    </tr>\n",
       "    <tr>\n",
       "      <th>1</th>\n",
       "      <td>20</td>\n",
       "      <td>2023-01-02</td>\n",
       "      <td>15.0</td>\n",
       "    </tr>\n",
       "    <tr>\n",
       "      <th>2</th>\n",
       "      <td>30</td>\n",
       "      <td>2023-01-03</td>\n",
       "      <td>20.0</td>\n",
       "    </tr>\n",
       "    <tr>\n",
       "      <th>3</th>\n",
       "      <td>40</td>\n",
       "      <td>2023-01-04</td>\n",
       "      <td>25.0</td>\n",
       "    </tr>\n",
       "    <tr>\n",
       "      <th>4</th>\n",
       "      <td>50</td>\n",
       "      <td>2023-01-05</td>\n",
       "      <td>30.0</td>\n",
       "    </tr>\n",
       "    <tr>\n",
       "      <th>5</th>\n",
       "      <td>60</td>\n",
       "      <td>2023-01-06</td>\n",
       "      <td>35.0</td>\n",
       "    </tr>\n",
       "    <tr>\n",
       "      <th>6</th>\n",
       "      <td>70</td>\n",
       "      <td>2023-01-07</td>\n",
       "      <td>40.0</td>\n",
       "    </tr>\n",
       "    <tr>\n",
       "      <th>7</th>\n",
       "      <td>80</td>\n",
       "      <td>2023-01-08</td>\n",
       "      <td>50.0</td>\n",
       "    </tr>\n",
       "    <tr>\n",
       "      <th>8</th>\n",
       "      <td>90</td>\n",
       "      <td>2023-01-09</td>\n",
       "      <td>60.0</td>\n",
       "    </tr>\n",
       "    <tr>\n",
       "      <th>9</th>\n",
       "      <td>100</td>\n",
       "      <td>2023-01-10</td>\n",
       "      <td>70.0</td>\n",
       "    </tr>\n",
       "  </tbody>\n",
       "</table>\n",
       "</div>"
      ],
      "text/plain": [
       "   Sales       Date  MovingAverage\n",
       "0     10 2023-01-01           10.0\n",
       "1     20 2023-01-02           15.0\n",
       "2     30 2023-01-03           20.0\n",
       "3     40 2023-01-04           25.0\n",
       "4     50 2023-01-05           30.0\n",
       "5     60 2023-01-06           35.0\n",
       "6     70 2023-01-07           40.0\n",
       "7     80 2023-01-08           50.0\n",
       "8     90 2023-01-09           60.0\n",
       "9    100 2023-01-10           70.0"
      ]
     },
     "execution_count": 15,
     "metadata": {},
     "output_type": "execute_result"
    }
   ],
   "source": [
    "result_df"
   ]
  },
  {
   "cell_type": "markdown",
   "id": "7ce8392a-734f-4a7c-bb57-4d53585f2736",
   "metadata": {},
   "source": [
    "### Q11. You have a Pandas DataFrame df with a column 'Date'. Write a Python function that creates a new column 'Weekday' in the DataFrame. The 'Weekday' column should contain the weekday name (e.g. Monday, Tuesday) corresponding to each date in the 'Date' column. For example, if df contains the following values:"
   ]
  },
  {
   "cell_type": "code",
   "execution_count": 28,
   "id": "6a6bc732-b2af-433b-8aeb-ca1e10890b60",
   "metadata": {},
   "outputs": [],
   "source": [
    "dates = pd.DataFrame({'Date': pd.date_range(start='2023-01-01', freq='D', periods=5)})\n",
    "\n",
    "def get__weekday(df : pd.DataFrame):\n",
    "    df['Weekdays'] = df['Date'].dt.day_name()\n",
    "    return df"
   ]
  },
  {
   "cell_type": "code",
   "execution_count": 29,
   "id": "57837be3-fa25-4b80-a1f6-fc304c9d58ab",
   "metadata": {},
   "outputs": [
    {
     "data": {
      "text/html": [
       "<div>\n",
       "<style scoped>\n",
       "    .dataframe tbody tr th:only-of-type {\n",
       "        vertical-align: middle;\n",
       "    }\n",
       "\n",
       "    .dataframe tbody tr th {\n",
       "        vertical-align: top;\n",
       "    }\n",
       "\n",
       "    .dataframe thead th {\n",
       "        text-align: right;\n",
       "    }\n",
       "</style>\n",
       "<table border=\"1\" class=\"dataframe\">\n",
       "  <thead>\n",
       "    <tr style=\"text-align: right;\">\n",
       "      <th></th>\n",
       "      <th>Sales</th>\n",
       "      <th>Date</th>\n",
       "      <th>Weekdays</th>\n",
       "    </tr>\n",
       "  </thead>\n",
       "  <tbody>\n",
       "    <tr>\n",
       "      <th>0</th>\n",
       "      <td>10</td>\n",
       "      <td>2023-01-01</td>\n",
       "      <td>Sunday</td>\n",
       "    </tr>\n",
       "    <tr>\n",
       "      <th>1</th>\n",
       "      <td>20</td>\n",
       "      <td>2023-01-02</td>\n",
       "      <td>Monday</td>\n",
       "    </tr>\n",
       "    <tr>\n",
       "      <th>2</th>\n",
       "      <td>30</td>\n",
       "      <td>2023-01-03</td>\n",
       "      <td>Tuesday</td>\n",
       "    </tr>\n",
       "    <tr>\n",
       "      <th>3</th>\n",
       "      <td>40</td>\n",
       "      <td>2023-01-04</td>\n",
       "      <td>Wednesday</td>\n",
       "    </tr>\n",
       "    <tr>\n",
       "      <th>4</th>\n",
       "      <td>50</td>\n",
       "      <td>2023-01-05</td>\n",
       "      <td>Thursday</td>\n",
       "    </tr>\n",
       "    <tr>\n",
       "      <th>5</th>\n",
       "      <td>60</td>\n",
       "      <td>2023-01-06</td>\n",
       "      <td>Friday</td>\n",
       "    </tr>\n",
       "    <tr>\n",
       "      <th>6</th>\n",
       "      <td>70</td>\n",
       "      <td>2023-01-07</td>\n",
       "      <td>Saturday</td>\n",
       "    </tr>\n",
       "    <tr>\n",
       "      <th>7</th>\n",
       "      <td>80</td>\n",
       "      <td>2023-01-08</td>\n",
       "      <td>Sunday</td>\n",
       "    </tr>\n",
       "    <tr>\n",
       "      <th>8</th>\n",
       "      <td>90</td>\n",
       "      <td>2023-01-09</td>\n",
       "      <td>Monday</td>\n",
       "    </tr>\n",
       "    <tr>\n",
       "      <th>9</th>\n",
       "      <td>100</td>\n",
       "      <td>2023-01-10</td>\n",
       "      <td>Tuesday</td>\n",
       "    </tr>\n",
       "  </tbody>\n",
       "</table>\n",
       "</div>"
      ],
      "text/plain": [
       "   Sales       Date   Weekdays\n",
       "0     10 2023-01-01     Sunday\n",
       "1     20 2023-01-02     Monday\n",
       "2     30 2023-01-03    Tuesday\n",
       "3     40 2023-01-04  Wednesday\n",
       "4     50 2023-01-05   Thursday\n",
       "5     60 2023-01-06     Friday\n",
       "6     70 2023-01-07   Saturday\n",
       "7     80 2023-01-08     Sunday\n",
       "8     90 2023-01-09     Monday\n",
       "9    100 2023-01-10    Tuesday"
      ]
     },
     "execution_count": 29,
     "metadata": {},
     "output_type": "execute_result"
    }
   ],
   "source": [
    "get__weekday(df)"
   ]
  },
  {
   "cell_type": "markdown",
   "id": "621d2d81-39d7-4531-817c-dc958b250abd",
   "metadata": {},
   "source": [
    "### Q12. Given a Pandas DataFrame df with a column 'Date' that contains timestamps, write a Python function to select all rows where the date is between '2023-01-01' and '2023-01-31'."
   ]
  },
  {
   "cell_type": "code",
   "execution_count": 30,
   "id": "f72e661a-841d-4ab3-b457-1c2bc3099dcb",
   "metadata": {},
   "outputs": [],
   "source": [
    "def select_dates_between(df):\n",
    "    start_date = '2023-01-01'\n",
    "    end_date = '2023-01-31'\n",
    "    mask = (df['Date'] >= start_date) & (df['Date'] <= end_date)\n",
    "    selected_df = df.loc[mask]\n",
    "    return selected_df"
   ]
  },
  {
   "cell_type": "code",
   "execution_count": 31,
   "id": "92401e9c-6888-4ef7-b15d-699126d74876",
   "metadata": {},
   "outputs": [
    {
     "data": {
      "text/html": [
       "<div>\n",
       "<style scoped>\n",
       "    .dataframe tbody tr th:only-of-type {\n",
       "        vertical-align: middle;\n",
       "    }\n",
       "\n",
       "    .dataframe tbody tr th {\n",
       "        vertical-align: top;\n",
       "    }\n",
       "\n",
       "    .dataframe thead th {\n",
       "        text-align: right;\n",
       "    }\n",
       "</style>\n",
       "<table border=\"1\" class=\"dataframe\">\n",
       "  <thead>\n",
       "    <tr style=\"text-align: right;\">\n",
       "      <th></th>\n",
       "      <th>Date</th>\n",
       "    </tr>\n",
       "  </thead>\n",
       "  <tbody>\n",
       "    <tr>\n",
       "      <th>0</th>\n",
       "      <td>2023-01-01</td>\n",
       "    </tr>\n",
       "    <tr>\n",
       "      <th>1</th>\n",
       "      <td>2023-01-02</td>\n",
       "    </tr>\n",
       "    <tr>\n",
       "      <th>2</th>\n",
       "      <td>2023-01-03</td>\n",
       "    </tr>\n",
       "    <tr>\n",
       "      <th>3</th>\n",
       "      <td>2023-01-04</td>\n",
       "    </tr>\n",
       "    <tr>\n",
       "      <th>4</th>\n",
       "      <td>2023-01-05</td>\n",
       "    </tr>\n",
       "  </tbody>\n",
       "</table>\n",
       "</div>"
      ],
      "text/plain": [
       "        Date\n",
       "0 2023-01-01\n",
       "1 2023-01-02\n",
       "2 2023-01-03\n",
       "3 2023-01-04\n",
       "4 2023-01-05"
      ]
     },
     "execution_count": 31,
     "metadata": {},
     "output_type": "execute_result"
    }
   ],
   "source": [
    "select_dates_between(dates)"
   ]
  },
  {
   "cell_type": "markdown",
   "id": "dd343a3d-01a0-45fd-be6e-72527437691a",
   "metadata": {},
   "source": [
    "### Q13. To use the basic functions of pandas, what is the first and foremost necessary library that needs to be imported?"
   ]
  },
  {
   "cell_type": "markdown",
   "id": "a71ec8a0-dbc4-4de4-92b0-a8a35f70f3ee",
   "metadata": {},
   "source": [
    "The first and foremost necessary library that we nesds to be imported is the pandas library . to import the pandas library we need to wrriten the following statement "
   ]
  },
  {
   "cell_type": "code",
   "execution_count": 32,
   "id": "7f17ec9e-7440-49dd-bf37-7a064867f9e0",
   "metadata": {},
   "outputs": [],
   "source": [
    "import pandas as pd"
   ]
  },
  {
   "cell_type": "markdown",
   "id": "0aeb0315-e9c1-451c-88e5-b035502cb5f6",
   "metadata": {},
   "source": [
    "In the above statement we import the pandas library and it is assign it an alias pd. By using the **pd** in prefix we can acess the function  such as pd.read_csv() or pd.DataFrame()."
   ]
  },
  {
   "cell_type": "code",
   "execution_count": null,
   "id": "68ca9d16-6ffb-4d5a-bd7f-952bd9d9b455",
   "metadata": {},
   "outputs": [],
   "source": []
  }
 ],
 "metadata": {
  "kernelspec": {
   "display_name": "Python 3 (ipykernel)",
   "language": "python",
   "name": "python3"
  },
  "language_info": {
   "codemirror_mode": {
    "name": "ipython",
    "version": 3
   },
   "file_extension": ".py",
   "mimetype": "text/x-python",
   "name": "python",
   "nbconvert_exporter": "python",
   "pygments_lexer": "ipython3",
   "version": "3.10.8"
  }
 },
 "nbformat": 4,
 "nbformat_minor": 5
}
