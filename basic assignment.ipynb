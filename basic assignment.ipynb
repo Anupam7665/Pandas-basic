{
 "cells": [
  {
   "cell_type": "markdown",
   "id": "1b4d54b9-9b4c-4223-a88d-8b37cb3e9444",
   "metadata": {},
   "source": [
    "### Q1. Create a Pandas Series that contains the following data: 4, 8, 15, 16, 23, and 42. Then, print the series."
   ]
  },
  {
   "cell_type": "code",
   "execution_count": 3,
   "id": "ea629425-ed89-41db-83bb-91794ec4acc8",
   "metadata": {},
   "outputs": [],
   "source": [
    "import pandas as pd"
   ]
  },
  {
   "cell_type": "code",
   "execution_count": 11,
   "id": "5a668ede-8faa-4f40-bf58-7ba1ba68b874",
   "metadata": {},
   "outputs": [
    {
     "data": {
      "text/plain": [
       "0     4\n",
       "1     8\n",
       "2    15\n",
       "3    16\n",
       "4    23\n",
       "5    42\n",
       "dtype: int64"
      ]
     },
     "execution_count": 11,
     "metadata": {},
     "output_type": "execute_result"
    }
   ],
   "source": [
    "pd.Series([4,8,15,16,23,42])"
   ]
  },
  {
   "cell_type": "markdown",
   "id": "e1e315cf-d7b5-4e65-bf04-a105e0f0b1a2",
   "metadata": {},
   "source": [
    "### Q2. Create a variable of list type containing 10 elements in it, and apply pandas.Series function on the variable print it."
   ]
  },
  {
   "cell_type": "code",
   "execution_count": 12,
   "id": "457bc2c4-4ea7-4243-8468-77ddd6d10028",
   "metadata": {},
   "outputs": [
    {
     "data": {
      "text/plain": [
       "0     1\n",
       "1     2\n",
       "2     3\n",
       "3     4\n",
       "4     5\n",
       "5     6\n",
       "6     7\n",
       "7     8\n",
       "8     9\n",
       "9    10\n",
       "dtype: int64"
      ]
     },
     "execution_count": 12,
     "metadata": {},
     "output_type": "execute_result"
    }
   ],
   "source": [
    "a = list(range(1 , 11))\n",
    "pd.Series(a)"
   ]
  },
  {
   "cell_type": "markdown",
   "id": "244a628e-98bd-47c3-8306-81a32501d8bf",
   "metadata": {},
   "source": [
    "### Q3. Create a Pandas DataFrame that contains the following data:"
   ]
  },
  {
   "cell_type": "code",
   "execution_count": 15,
   "id": "df9fd4e8-b573-4963-ac10-cfb9de6a4e6f",
   "metadata": {},
   "outputs": [
    {
     "data": {
      "text/html": [
       "<div>\n",
       "<style scoped>\n",
       "    .dataframe tbody tr th:only-of-type {\n",
       "        vertical-align: middle;\n",
       "    }\n",
       "\n",
       "    .dataframe tbody tr th {\n",
       "        vertical-align: top;\n",
       "    }\n",
       "\n",
       "    .dataframe thead th {\n",
       "        text-align: right;\n",
       "    }\n",
       "</style>\n",
       "<table border=\"1\" class=\"dataframe\">\n",
       "  <thead>\n",
       "    <tr style=\"text-align: right;\">\n",
       "      <th></th>\n",
       "      <th>Name</th>\n",
       "      <th>Age</th>\n",
       "      <th>Gender</th>\n",
       "    </tr>\n",
       "  </thead>\n",
       "  <tbody>\n",
       "    <tr>\n",
       "      <th>0</th>\n",
       "      <td>Alice</td>\n",
       "      <td>25</td>\n",
       "      <td>female</td>\n",
       "    </tr>\n",
       "    <tr>\n",
       "      <th>1</th>\n",
       "      <td>bob</td>\n",
       "      <td>30</td>\n",
       "      <td>Male</td>\n",
       "    </tr>\n",
       "    <tr>\n",
       "      <th>2</th>\n",
       "      <td>Claire</td>\n",
       "      <td>27</td>\n",
       "      <td>Female</td>\n",
       "    </tr>\n",
       "  </tbody>\n",
       "</table>\n",
       "</div>"
      ],
      "text/plain": [
       "     Name  Age  Gender\n",
       "0   Alice   25  female\n",
       "1     bob   30    Male\n",
       "2  Claire   27  Female"
      ]
     },
     "execution_count": 15,
     "metadata": {},
     "output_type": "execute_result"
    }
   ],
   "source": [
    "d = {\n",
    "    'Name' : [\"Alice\" , \"bob\" , \"Claire\"],\n",
    "    'Age' : [25 , 30 , 27],\n",
    "    'Gender' : [\"female\" , \"Male\" ,\"Female\"]\n",
    "}\n",
    "pd.DataFrame(d)"
   ]
  },
  {
   "cell_type": "markdown",
   "id": "c8c0255b-b652-44ec-b0ba-b413ad511716",
   "metadata": {},
   "source": [
    "### Q4. What is ‘DataFrame’ in pandas and how is it different from pandas.series? Explain with an example."
   ]
  },
  {
   "cell_type": "markdown",
   "id": "0123fbb1-f22b-4a30-a456-2880e626bb1b",
   "metadata": {},
   "source": [
    "A DataFrames in pandas is a two-dimensional table and it is labelled with rows and columns. It is use in python for manipulation and analysis of the data .  A  DataFrames can also be thought as a collection of a Series.\n",
    "\n",
    "\n",
    "The differnece between DataFrame and a Series is that  DataFrames can have multiple columns of different types While series can only have one column of a single type . "
   ]
  },
  {
   "cell_type": "code",
   "execution_count": 25,
   "id": "5f381d3a-43ae-4fbd-986c-f68ee4fa92b3",
   "metadata": {},
   "outputs": [],
   "source": [
    "data = pd.Series({\n",
    "    \"name\": [\"Alice\", \"Bob\", \"Charlie\" ,\"David\"],\n",
    "    \"age\": [25, 30, 35, 40], \n",
    "    \"gender\": [\"F\", \"M\", \"M\", \"M\"], \n",
    "    \"salary\": [5000, 6000, 7000, 8000] \n",
    "})"
   ]
  },
  {
   "cell_type": "code",
   "execution_count": 26,
   "id": "cf64a11b-4051-474a-9ebb-b166b53b5ef9",
   "metadata": {},
   "outputs": [
    {
     "data": {
      "text/plain": [
       "name      [Alice, Bob, Charlie, David]\n",
       "age                   [25, 30, 35, 40]\n",
       "gender                    [F, M, M, M]\n",
       "salary        [5000, 6000, 7000, 8000]\n",
       "dtype: object"
      ]
     },
     "execution_count": 26,
     "metadata": {},
     "output_type": "execute_result"
    }
   ],
   "source": [
    "data"
   ]
  },
  {
   "cell_type": "code",
   "execution_count": 28,
   "id": "b0190b7f-a185-44ca-8260-3accfd5dacc8",
   "metadata": {},
   "outputs": [],
   "source": [
    "data1 = pd.DataFrame({\n",
    "    \"name\": [\"Alice\", \"Bob\", \"Charlie\" ,\"David\"],\n",
    "    \"age\": [25, 30, 35, 40], \n",
    "    \"gender\": [\"F\", \"M\", \"M\", \"M\"], \n",
    "    \"salary\": [5000, 6000, 7000, 8000] \n",
    "})"
   ]
  },
  {
   "cell_type": "code",
   "execution_count": 29,
   "id": "78e8f9f9-cf84-4635-a357-6a5499074289",
   "metadata": {},
   "outputs": [
    {
     "data": {
      "text/html": [
       "<div>\n",
       "<style scoped>\n",
       "    .dataframe tbody tr th:only-of-type {\n",
       "        vertical-align: middle;\n",
       "    }\n",
       "\n",
       "    .dataframe tbody tr th {\n",
       "        vertical-align: top;\n",
       "    }\n",
       "\n",
       "    .dataframe thead th {\n",
       "        text-align: right;\n",
       "    }\n",
       "</style>\n",
       "<table border=\"1\" class=\"dataframe\">\n",
       "  <thead>\n",
       "    <tr style=\"text-align: right;\">\n",
       "      <th></th>\n",
       "      <th>name</th>\n",
       "      <th>age</th>\n",
       "      <th>gender</th>\n",
       "      <th>salary</th>\n",
       "    </tr>\n",
       "  </thead>\n",
       "  <tbody>\n",
       "    <tr>\n",
       "      <th>0</th>\n",
       "      <td>Alice</td>\n",
       "      <td>25</td>\n",
       "      <td>F</td>\n",
       "      <td>5000</td>\n",
       "    </tr>\n",
       "    <tr>\n",
       "      <th>1</th>\n",
       "      <td>Bob</td>\n",
       "      <td>30</td>\n",
       "      <td>M</td>\n",
       "      <td>6000</td>\n",
       "    </tr>\n",
       "    <tr>\n",
       "      <th>2</th>\n",
       "      <td>Charlie</td>\n",
       "      <td>35</td>\n",
       "      <td>M</td>\n",
       "      <td>7000</td>\n",
       "    </tr>\n",
       "    <tr>\n",
       "      <th>3</th>\n",
       "      <td>David</td>\n",
       "      <td>40</td>\n",
       "      <td>M</td>\n",
       "      <td>8000</td>\n",
       "    </tr>\n",
       "  </tbody>\n",
       "</table>\n",
       "</div>"
      ],
      "text/plain": [
       "      name  age gender  salary\n",
       "0    Alice   25      F    5000\n",
       "1      Bob   30      M    6000\n",
       "2  Charlie   35      M    7000\n",
       "3    David   40      M    8000"
      ]
     },
     "execution_count": 29,
     "metadata": {},
     "output_type": "execute_result"
    }
   ],
   "source": [
    "data1"
   ]
  },
  {
   "cell_type": "markdown",
   "id": "662e13be-8b50-47f2-8e08-1ab92b8a217f",
   "metadata": {},
   "source": [
    "### Q5. What are some common functions you can use to manipulate data in a Pandas DataFrame? Can you give an example of when you might use one of these functions?"
   ]
  },
  {
   "cell_type": "markdown",
   "id": "b5e6fd23-ac02-4d74-9aa3-40f5e7ed11cd",
   "metadata": {},
   "source": [
    "sort_values() :  Thisw function sorts the rows of a  DataFrame by one or more columns in ascending or descending values . Ity is used to arrenge the data according to the given condition\n",
    "\n",
    "isnull() : this function is used to check and identify the missing or values in a DataFrame or a series . It return a boolean object that indicates whether each element is null or not.\n",
    "\n",
    "describe() : This function returns a summary of statistic for each columns ina a DataFrame  , such as median  , mean , standard deviation , mode , minimum , maximum and Quartile ."
   ]
  },
  {
   "cell_type": "code",
   "execution_count": 32,
   "id": "347639e6-9f43-4b0f-aca1-41e0ea423f76",
   "metadata": {},
   "outputs": [
    {
     "data": {
      "text/html": [
       "<div>\n",
       "<style scoped>\n",
       "    .dataframe tbody tr th:only-of-type {\n",
       "        vertical-align: middle;\n",
       "    }\n",
       "\n",
       "    .dataframe tbody tr th {\n",
       "        vertical-align: top;\n",
       "    }\n",
       "\n",
       "    .dataframe thead th {\n",
       "        text-align: right;\n",
       "    }\n",
       "</style>\n",
       "<table border=\"1\" class=\"dataframe\">\n",
       "  <thead>\n",
       "    <tr style=\"text-align: right;\">\n",
       "      <th></th>\n",
       "      <th>age</th>\n",
       "      <th>salary</th>\n",
       "    </tr>\n",
       "  </thead>\n",
       "  <tbody>\n",
       "    <tr>\n",
       "      <th>count</th>\n",
       "      <td>4.000000</td>\n",
       "      <td>4.000000</td>\n",
       "    </tr>\n",
       "    <tr>\n",
       "      <th>mean</th>\n",
       "      <td>32.500000</td>\n",
       "      <td>6500.000000</td>\n",
       "    </tr>\n",
       "    <tr>\n",
       "      <th>std</th>\n",
       "      <td>6.454972</td>\n",
       "      <td>1290.994449</td>\n",
       "    </tr>\n",
       "    <tr>\n",
       "      <th>min</th>\n",
       "      <td>25.000000</td>\n",
       "      <td>5000.000000</td>\n",
       "    </tr>\n",
       "    <tr>\n",
       "      <th>25%</th>\n",
       "      <td>28.750000</td>\n",
       "      <td>5750.000000</td>\n",
       "    </tr>\n",
       "    <tr>\n",
       "      <th>50%</th>\n",
       "      <td>32.500000</td>\n",
       "      <td>6500.000000</td>\n",
       "    </tr>\n",
       "    <tr>\n",
       "      <th>75%</th>\n",
       "      <td>36.250000</td>\n",
       "      <td>7250.000000</td>\n",
       "    </tr>\n",
       "    <tr>\n",
       "      <th>max</th>\n",
       "      <td>40.000000</td>\n",
       "      <td>8000.000000</td>\n",
       "    </tr>\n",
       "  </tbody>\n",
       "</table>\n",
       "</div>"
      ],
      "text/plain": [
       "             age       salary\n",
       "count   4.000000     4.000000\n",
       "mean   32.500000  6500.000000\n",
       "std     6.454972  1290.994449\n",
       "min    25.000000  5000.000000\n",
       "25%    28.750000  5750.000000\n",
       "50%    32.500000  6500.000000\n",
       "75%    36.250000  7250.000000\n",
       "max    40.000000  8000.000000"
      ]
     },
     "execution_count": 32,
     "metadata": {},
     "output_type": "execute_result"
    }
   ],
   "source": [
    "data1.describe()"
   ]
  },
  {
   "cell_type": "code",
   "execution_count": 39,
   "id": "39fec6fd-83f2-4c71-929a-a259699b521f",
   "metadata": {},
   "outputs": [
    {
     "data": {
      "text/html": [
       "<div>\n",
       "<style scoped>\n",
       "    .dataframe tbody tr th:only-of-type {\n",
       "        vertical-align: middle;\n",
       "    }\n",
       "\n",
       "    .dataframe tbody tr th {\n",
       "        vertical-align: top;\n",
       "    }\n",
       "\n",
       "    .dataframe thead th {\n",
       "        text-align: right;\n",
       "    }\n",
       "</style>\n",
       "<table border=\"1\" class=\"dataframe\">\n",
       "  <thead>\n",
       "    <tr style=\"text-align: right;\">\n",
       "      <th></th>\n",
       "      <th>name</th>\n",
       "      <th>age</th>\n",
       "      <th>gender</th>\n",
       "      <th>salary</th>\n",
       "    </tr>\n",
       "  </thead>\n",
       "  <tbody>\n",
       "    <tr>\n",
       "      <th>0</th>\n",
       "      <td>False</td>\n",
       "      <td>False</td>\n",
       "      <td>False</td>\n",
       "      <td>False</td>\n",
       "    </tr>\n",
       "    <tr>\n",
       "      <th>1</th>\n",
       "      <td>False</td>\n",
       "      <td>False</td>\n",
       "      <td>False</td>\n",
       "      <td>False</td>\n",
       "    </tr>\n",
       "    <tr>\n",
       "      <th>2</th>\n",
       "      <td>False</td>\n",
       "      <td>False</td>\n",
       "      <td>False</td>\n",
       "      <td>False</td>\n",
       "    </tr>\n",
       "    <tr>\n",
       "      <th>3</th>\n",
       "      <td>False</td>\n",
       "      <td>False</td>\n",
       "      <td>False</td>\n",
       "      <td>False</td>\n",
       "    </tr>\n",
       "  </tbody>\n",
       "</table>\n",
       "</div>"
      ],
      "text/plain": [
       "    name    age  gender  salary\n",
       "0  False  False   False   False\n",
       "1  False  False   False   False\n",
       "2  False  False   False   False\n",
       "3  False  False   False   False"
      ]
     },
     "execution_count": 39,
     "metadata": {},
     "output_type": "execute_result"
    }
   ],
   "source": [
    "data1.isnull()"
   ]
  },
  {
   "cell_type": "markdown",
   "id": "062971ac-6413-4cd1-b5b4-d98b452b713c",
   "metadata": {},
   "source": [
    "### Q6. Which of the following is mutable in nature Series, DataFrame, Panel?"
   ]
  },
  {
   "cell_type": "markdown",
   "id": "5cb39976-dc0d-4e2b-9874-1f8715090431",
   "metadata": {},
   "source": [
    "A Dataframe ia a two dimensionl data structure that can store and manipulate data in tabular format which means it has rows and columns .  A DataFrames is both value amd size-mutable , whaich means that value nd the dimension of the DataFrame can be changed \n",
    "\n",
    "\n",
    "A Series is one-dimensional data structure that can store the data of a single type along with an index . In Series it value can be changed but not size which means it leng doesn't changed but its can value changed.\n",
    "\n",
    "\n",
    "In Panel it has  three-dimensional data structure and size mutable array"
   ]
  },
  {
   "cell_type": "markdown",
   "id": "f9e134e3-0bb4-4c58-9706-9aa591f6f37a",
   "metadata": {},
   "source": [
    "### Q7 Create a DataFrame using multiple Series. Explain with an example."
   ]
  },
  {
   "cell_type": "code",
   "execution_count": 47,
   "id": "f6fde87f-a26c-4c35-aa79-040960807afe",
   "metadata": {},
   "outputs": [],
   "source": [
    "Actor = pd.Series([\n",
    "    'Ram Charan',\n",
    "    'Allu Arjun',\n",
    "    'Vijay Devarkonda',\n",
    "    'Nikhil Akkikheni'\n",
    "])\n",
    "\n",
    "\n",
    "Film  = pd.Series([\n",
    "    'RRR',\n",
    "    'Pushpa',\n",
    "    'Dear Comrade',\n",
    "    'Mr Majnu'\n",
    "])\n",
    "\n",
    "\n",
    "Ratings = pd.Series([\n",
    "    9.2,\n",
    "    9.0,\n",
    "    8.3,\n",
    "    8.5\n",
    "])"
   ]
  },
  {
   "cell_type": "code",
   "execution_count": 48,
   "id": "af459e95-4b73-4cb1-b86f-5771e250f1a6",
   "metadata": {},
   "outputs": [],
   "source": [
    "Hit_Movies = pd.DataFrame({\n",
    "    'Hero' : Actor,\n",
    "    'BlockBusters' : Film,\n",
    "    'Imdb' : Ratings\n",
    "})"
   ]
  },
  {
   "cell_type": "code",
   "execution_count": 49,
   "id": "5a137d3a-9bf2-49dc-ba34-16a84178e636",
   "metadata": {},
   "outputs": [
    {
     "data": {
      "text/html": [
       "<div>\n",
       "<style scoped>\n",
       "    .dataframe tbody tr th:only-of-type {\n",
       "        vertical-align: middle;\n",
       "    }\n",
       "\n",
       "    .dataframe tbody tr th {\n",
       "        vertical-align: top;\n",
       "    }\n",
       "\n",
       "    .dataframe thead th {\n",
       "        text-align: right;\n",
       "    }\n",
       "</style>\n",
       "<table border=\"1\" class=\"dataframe\">\n",
       "  <thead>\n",
       "    <tr style=\"text-align: right;\">\n",
       "      <th></th>\n",
       "      <th>Hero</th>\n",
       "      <th>BlockBusters</th>\n",
       "      <th>Imdb</th>\n",
       "    </tr>\n",
       "  </thead>\n",
       "  <tbody>\n",
       "    <tr>\n",
       "      <th>0</th>\n",
       "      <td>Ram Charan</td>\n",
       "      <td>RRR</td>\n",
       "      <td>9.2</td>\n",
       "    </tr>\n",
       "    <tr>\n",
       "      <th>1</th>\n",
       "      <td>Allu Arjun</td>\n",
       "      <td>Pushpa</td>\n",
       "      <td>9.0</td>\n",
       "    </tr>\n",
       "    <tr>\n",
       "      <th>2</th>\n",
       "      <td>Vijay Devarkonda</td>\n",
       "      <td>Dear Comrade</td>\n",
       "      <td>8.3</td>\n",
       "    </tr>\n",
       "    <tr>\n",
       "      <th>3</th>\n",
       "      <td>Nikhil Akkikheni</td>\n",
       "      <td>Mr Majnu</td>\n",
       "      <td>8.5</td>\n",
       "    </tr>\n",
       "  </tbody>\n",
       "</table>\n",
       "</div>"
      ],
      "text/plain": [
       "               Hero  BlockBusters  Imdb\n",
       "0        Ram Charan           RRR   9.2\n",
       "1        Allu Arjun        Pushpa   9.0\n",
       "2  Vijay Devarkonda  Dear Comrade   8.3\n",
       "3  Nikhil Akkikheni      Mr Majnu   8.5"
      ]
     },
     "execution_count": 49,
     "metadata": {},
     "output_type": "execute_result"
    }
   ],
   "source": [
    "Hit_Movies"
   ]
  },
  {
   "cell_type": "code",
   "execution_count": null,
   "id": "e6c83eb3-3237-4ae8-8e70-a0358efb3471",
   "metadata": {},
   "outputs": [],
   "source": []
  }
 ],
 "metadata": {
  "kernelspec": {
   "display_name": "Python 3 (ipykernel)",
   "language": "python",
   "name": "python3"
  },
  "language_info": {
   "codemirror_mode": {
    "name": "ipython",
    "version": 3
   },
   "file_extension": ".py",
   "mimetype": "text/x-python",
   "name": "python",
   "nbconvert_exporter": "python",
   "pygments_lexer": "ipython3",
   "version": "3.10.8"
  }
 },
 "nbformat": 4,
 "nbformat_minor": 5
}
